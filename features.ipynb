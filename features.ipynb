{
 "cells": [
  {
   "cell_type": "code",
   "execution_count": 1,
   "id": "a2a18298-8d04-437d-9fa4-be99b3037d60",
   "metadata": {},
   "outputs": [],
   "source": [
    "import warnings\n",
    "import pandas as pd\n",
    "import numpy as np\n",
    "from sklearn.linear_model import LogisticRegression\n",
    "from sklearn.linear_model import LinearRegression\n",
    "from sklearn.cluster import DBSCAN\n",
    "from sklearn.model_selection import train_test_split\n",
    "from sklearn.metrics import mean_absolute_error\n",
    "from sklearn.preprocessing import PolynomialFeatures\n",
    "import reverse_geocoder as rg\n",
    "from sklearn.cluster import KMeans\n",
    "from sklearn.preprocessing import OneHotEncoder\n",
    "from sklearn.preprocessing import MinMaxScaler\n",
    "from sklearn.decomposition import PCA\n",
    "from sklearn.model_selection import cross_val_score\n",
    "from sklearn.model_selection import ShuffleSplit"
   ]
  },
  {
   "cell_type": "code",
   "execution_count": 2,
   "id": "77afc5ae-a363-486b-b50d-07628954082d",
   "metadata": {},
   "outputs": [],
   "source": [
    "warnings.filterwarnings(\"ignore\")"
   ]
  },
  {
   "cell_type": "code",
   "execution_count": 3,
   "id": "2e6722dd-04af-4bf5-8350-b19208870f02",
   "metadata": {},
   "outputs": [],
   "source": [
    "features = pd.read_csv('features.csv')\n",
    "prices = pd.read_csv('input_data.csv', delimiter=';').rename(columns={'geo_lat': \"lat\", 'geo_lon': \"lon\"})\n",
    "train = pd.read_csv('train.csv').drop('id', axis=1)\n",
    "test = pd.read_csv('test.csv')"
   ]
  },
  {
   "cell_type": "markdown",
   "id": "37f5572d-6479-4cf0-a845-67e079b866ec",
   "metadata": {},
   "source": [
    "Используя координаты найдём ближайшие города"
   ]
  },
  {
   "cell_type": "code",
   "execution_count": 4,
   "id": "846c6df4-aa87-448e-9301-c402d452e1dd",
   "metadata": {},
   "outputs": [
    {
     "name": "stdout",
     "output_type": "stream",
     "text": [
      "Loading formatted geocoded file...\n"
     ]
    }
   ],
   "source": [
    "val = train[['lat','lon']].values\n",
    "coord = [tuple(el) for el in val]\n",
    "df = pd.DataFrame(rg.search(coord))\n",
    "train['city'] = df['admin1']\n",
    "\n",
    "val = test[['lat','lon']].values\n",
    "coord = [tuple(el) for el in val]\n",
    "df = pd.DataFrame(rg.search(coord))\n",
    "test['city'] = df['admin1']"
   ]
  },
  {
   "cell_type": "markdown",
   "id": "3cd7e0dd-52af-4ae2-819f-0b7a8dd6061e",
   "metadata": {},
   "source": [
    "Кластеризуем данные по координатам, чтобы после этого найти среднее по остальным признакам и применить к train и test."
   ]
  },
  {
   "cell_type": "code",
   "execution_count": 5,
   "id": "e8c1e2f5-ac35-4857-9756-51168d652910",
   "metadata": {},
   "outputs": [],
   "source": [
    "kmeans = KMeans(\n",
    "    n_clusters=110,\n",
    "    n_init=10,\n",
    "    random_state=42\n",
    ")\n",
    "kmeans.fit(features[['lat', 'lon']])\n",
    "labels = kmeans.labels_\n",
    "features['cluster'] = labels"
   ]
  },
  {
   "cell_type": "code",
   "execution_count": 6,
   "id": "32090940-8779-4d7f-8c4d-2759dea6a90c",
   "metadata": {},
   "outputs": [],
   "source": [
    "grouped = features.groupby('cluster')\n",
    "features = grouped.mean().drop(['lat', 'lon'], axis = 1)"
   ]
  },
  {
   "cell_type": "code",
   "execution_count": 7,
   "id": "f6abfb7f-59ba-46a0-809c-7e01d20a9b0c",
   "metadata": {},
   "outputs": [],
   "source": [
    "train['cluster'] = kmeans.predict(train[['lat', 'lon']])\n",
    "test['cluster'] = kmeans.predict(test[['lat', 'lon']])\n",
    "prices['cluster'] = kmeans.predict(prices[['lat', 'lon']])"
   ]
  },
  {
   "cell_type": "code",
   "execution_count": 8,
   "id": "51273835-ee94-47e0-ac76-2ca42aa9bd97",
   "metadata": {},
   "outputs": [],
   "source": [
    "df = prices[['cluster', 'price']]\n",
    "grouped = df.groupby('cluster')\n",
    "prices = grouped.mean()\n",
    "features['price'] = prices['price']"
   ]
  },
  {
   "cell_type": "code",
   "execution_count": 9,
   "id": "6a68c29b-7943-430b-85a1-309186ba98d0",
   "metadata": {},
   "outputs": [],
   "source": [
    "train = pd.merge(train,features, on='cluster', how='left').drop(['cluster'], axis=1)\n",
    "test = pd.merge(test,features, on='cluster', how='left').drop(['cluster'], axis=1)"
   ]
  },
  {
   "cell_type": "markdown",
   "id": "2fee262c-2772-4d75-8250-d1805329911b",
   "metadata": {},
   "source": [
    "Создадим ещё несколько фичей, основаваясь на координатах"
   ]
  },
  {
   "cell_type": "code",
   "execution_count": 10,
   "id": "20973a4f-5ea9-4de1-b35a-8664d6cca66d",
   "metadata": {},
   "outputs": [],
   "source": [
    "coordinates = train[['lat','lon']].values\n",
    "pca_obj = PCA().fit(coordinates)\n",
    "train['pca1'] = pca_obj.transform(train[['lat','lon']])[:,0]\n",
    "train['pca2'] = pca_obj.transform(train[['lat','lon']])[:,1]\n",
    "train['rot45_1'] = (0.707 * train['lat']) + (0.707 * train['lon'])\n",
    "train['rot45_2'] = (0.707 * train['lon']) + (0.707 * train['lat'])\n",
    "train['rot30_1'] = (0.866 * train['lat']) + (0.5 * train['lon'])\n",
    "train['rot30_2'] = (0.866 * train['lon']) + (0.5 * train['lat'])"
   ]
  },
  {
   "cell_type": "code",
   "execution_count": 11,
   "id": "bd83865f-0225-4de0-add6-a8cde9b86d5a",
   "metadata": {},
   "outputs": [],
   "source": [
    "coordinates = train[['lat','lon']].values\n",
    "pca_obj = PCA().fit(coordinates)\n",
    "test['pca1'] = pca_obj.transform(test[['lat','lon']])[:,0]\n",
    "test['pca2'] = pca_obj.transform(test[['lat','lon']])[:,1]\n",
    "test['rot45_1'] = (0.707 * test['lat']) + (0.707 * test['lon'])\n",
    "test['rot45_2'] = (0.707 * test['lon']) + (0.707 * test['lat'])\n",
    "test['rot30_1'] = (0.866 * test['lat']) + (0.5 * test['lon'])\n",
    "test['rot30_2'] = (0.866 * test['lon']) + (0.5 * test['lat'])"
   ]
  },
  {
   "cell_type": "code",
   "execution_count": 12,
   "id": "9231171f-bc19-404c-9f3f-c1df26db66ce",
   "metadata": {},
   "outputs": [],
   "source": [
    "train = train.drop(['city', 'lat', 'lon'], axis=1)\n",
    "test = test.drop(['city', 'lat', 'lon'], axis=1)"
   ]
  },
  {
   "cell_type": "code",
   "execution_count": 13,
   "id": "71849124-b64d-40c6-a882-70685546cc39",
   "metadata": {},
   "outputs": [],
   "source": [
    "scaler = MinMaxScaler()\n",
    "scaler.fit_transform(train);\n",
    "scaler.fit_transform(test);"
   ]
  },
  {
   "cell_type": "code",
   "execution_count": 14,
   "id": "114127e8-0cca-4cc8-be47-6b3a0d4e0a80",
   "metadata": {},
   "outputs": [],
   "source": [
    "test.to_csv('new_test.csv', index=False)\n",
    "train.to_csv('new_train.csv', index=False)"
   ]
  },
  {
   "cell_type": "code",
   "execution_count": null,
   "id": "556bf962-29f7-4b3f-8a2e-f70d7aafbadc",
   "metadata": {},
   "outputs": [],
   "source": []
  }
 ],
 "metadata": {
  "kernelspec": {
   "display_name": "Python 3 (ipykernel)",
   "language": "python",
   "name": "python3"
  },
  "language_info": {
   "codemirror_mode": {
    "name": "ipython",
    "version": 3
   },
   "file_extension": ".py",
   "mimetype": "text/x-python",
   "name": "python",
   "nbconvert_exporter": "python",
   "pygments_lexer": "ipython3",
   "version": "3.10.13"
  }
 },
 "nbformat": 4,
 "nbformat_minor": 5
}
